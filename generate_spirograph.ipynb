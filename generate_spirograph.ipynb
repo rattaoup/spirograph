{
 "cells": [
  {
   "cell_type": "code",
   "execution_count": 7,
   "metadata": {},
   "outputs": [],
   "source": [
    "import torch\n",
    "import math\n",
    "import torch.nn as nn\n",
    "import os\n",
    "import numpy as np\n",
    "from torch.utils.data import TensorDataset\n",
    "from collections import OrderedDict\n",
    "from math import pi\n",
    "import matplotlib.pyplot as plt"
   ]
  },
  {
   "cell_type": "code",
   "execution_count": 11,
   "metadata": {},
   "outputs": [],
   "source": [
    "class DrawSpirograph(nn.Module):\n",
    "\n",
    "    all_params = {'m', 'b', 'h', 'sigma', 'rfore', 'rback', 'gfore', 'gback', 'bfore', 'bback'}\n",
    "\n",
    "    def __init__(self, data_params, transform_params, m_bounds=(2, 5), b_bounds=(.1, 1.1), h_bounds=(.5, 2.5),\n",
    "                 sigma_bounds=(.25, 1), rgb_fore_bounds=(.4, 1), rgb_back_bounds=(0, .6), train_proportion = 1.0):\n",
    "        assert set(data_params) | set(transform_params) == DrawSpirograph.all_params\n",
    "        assert set(data_params) & set(transform_params) == set()\n",
    "        super().__init__()\n",
    "        self.data_params = data_params\n",
    "        self.transform_params = transform_params\n",
    "        self.bounds = OrderedDict([\n",
    "            ('m', m_bounds),\n",
    "            ('b', b_bounds),\n",
    "            ('h', h_bounds),\n",
    "            ('sigma', sigma_bounds),\n",
    "            ('rfore', rgb_fore_bounds),\n",
    "            ('rback', rgb_back_bounds),\n",
    "            ('gfore', rgb_fore_bounds),\n",
    "            ('gback', rgb_back_bounds),\n",
    "            ('bfore', rgb_fore_bounds),\n",
    "            ('bback', rgb_back_bounds)\n",
    "        ])\n",
    "        self.train_proportion = train_proportion\n",
    "\n",
    "    def dataset(self, train_length= 5000, test_length= 1000, device='cpu'):\n",
    "        train_length= int(train_length*self.train_proportion)\n",
    "        test_length= int(test_length*self.train_proportion)\n",
    "        params = []\n",
    "        for label, bound in self.bounds.items():\n",
    "            if label in self.data_params:\n",
    "                params.append(torch.ones(train_length + test_length, device=device).uniform_(bound[0], bound[1]))\n",
    "\n",
    "        dataset_parameters = torch.stack(params, dim=-1)\n",
    "\n",
    "        trainset = (dataset_parameters[:train_length, ...], dataset_parameters[:train_length, ...])\n",
    "        testset = (dataset_parameters[train_length:, ...], dataset_parameters[train_length:, ...])\n",
    "\n",
    "        return trainset, testset\n",
    "\n",
    "    def sample_random_numbers(self, shape, device):\n",
    "        B = shape[0]\n",
    "        params = []\n",
    "        for label, bound in self.bounds.items():\n",
    "            if label in self.transform_params:\n",
    "                params.append(torch.ones(B, device=device).uniform_(bound[0], bound[1]))\n",
    "\n",
    "        aug_parameters = torch.stack(params, dim=-1).requires_grad_(True)\n",
    "\n",
    "        return aug_parameters\n",
    "\n",
    "    def forward(self, data_params, transform_params):\n",
    "\n",
    "        # Match up the columns with the right labels\n",
    "        i, j = 0, 0\n",
    "        all_params = {}\n",
    "        for label in self.bounds.keys():\n",
    "            if label in self.data_params:\n",
    "                all_params[label] = data_params[..., i]\n",
    "                i += 1\n",
    "            elif label in self.transform_params:\n",
    "                all_params[label] = transform_params[..., j]\n",
    "                j += 1\n",
    "\n",
    "        a = all_params['m'] + all_params['b'] - all_params['h']\n",
    "        b = all_params['b']\n",
    "        h = all_params['h']\n",
    "        t = torch.linspace(0, 2 * pi, 40, device=a.device).unsqueeze(-1)\n",
    "        # x, y, have shape 40, B\n",
    "        x = (a - b) * torch.cos(t) + h * torch.cos(t * (a - b) / b)\n",
    "        y = (a - b) * torch.sin(t) - h * torch.sin(t * (a - b) / b)\n",
    "        # grid has shape 2, 32, 32\n",
    "        grid = torch.stack(torch.meshgrid(torch.linspace(-6, 6, 32), torch.linspace(-6, 6, 32)), dim=0).to(a.device)\n",
    "        # centres has shape 40, B, 2, 1, 1\n",
    "        centres = torch.stack([x, y], axis=-1).unsqueeze(-1).unsqueeze(-1)\n",
    "        # d has shape 40, B, 32, 32\n",
    "        d = ((grid - centres) ** 2).sum(2)\n",
    "        weights = torch.exp(-d / all_params['sigma'].unsqueeze(-1).unsqueeze(-1))\n",
    "        # v has shape B, 32, 32\n",
    "        v = weights.mean(0)\n",
    "        v = v / (v.max(dim=-1, keepdim=True)[0].max(dim=-1, keepdim=True)[0] + 1e-8)\n",
    "\n",
    "        # Colours have shape B, 3\n",
    "        col_fore_rgb = torch.stack([all_params['rfore'], all_params['gfore'], all_params['bfore']], dim=-1)\n",
    "        col_back_rgb = torch.stack([all_params['rback'], all_params['gback'], all_params['bback']], dim=-1)\n",
    "        col_fore_rgb = col_fore_rgb.unsqueeze(-1).squeeze(-1)\n",
    "        col_back_rgb = col_back_rgb.unsqueeze(-1).squeeze(-1)\n",
    "\n",
    "        v = v.unsqueeze(1)\n",
    "        rgb = v * col_fore_rgb.unsqueeze(-1).unsqueeze(-1) + (1 - v) * col_back_rgb.unsqueeze(-1).unsqueeze(-1)\n",
    "\n",
    "        return rgb\n"
   ]
  },
  {
   "cell_type": "code",
   "execution_count": 12,
   "metadata": {},
   "outputs": [],
   "source": [
    "def get_spirograph_dataset():\n",
    "\n",
    "    spirograph = DrawSpirograph(['m', 'b', 'sigma', 'rfore'], ['h', 'rback', 'gfore', 'gback', 'bfore', 'bback'])\n",
    "    trainset, testset = spirograph.dataset()\n",
    "    return trainset, testset, spirograph"
   ]
  },
  {
   "cell_type": "code",
   "execution_count": 13,
   "metadata": {},
   "outputs": [],
   "source": [
    "device = 'cuda' if torch.cuda.is_available() else 'cpu'\n",
    "\n",
    "train_gen_param, test_gen_param, spirograph = get_spirograph_dataset()\n",
    "aug_param = spirograph.sample_random_numbers(train_gen_param[0].shape, device)\n",
    "with torch.no_grad():\n",
    "    X = spirograph(train_gen_param[0].to(device), aug_param )\n",
    "    y = torch.cat([train_gen_param[1].to(device), aug_param], dim = 1)\n",
    "    store = [(X,y)]\n",
    "    X, y = zip(*store)\n",
    "    X, y = torch.cat(X, dim=0), torch.cat(y, dim=0)\n",
    "\n",
    "data = TensorDataset(X,y)\n",
    "if not os.path.isdir('dataset'):\n",
    "    os.mkdir('dataset')\n",
    "destination = os.path.join('./dataset', 'spirograph')\n",
    "torch.save(data, destination)"
   ]
  },
  {
   "cell_type": "code",
   "execution_count": 14,
   "metadata": {},
   "outputs": [],
   "source": [
    "def show(img):\n",
    "    plt.figure()\n",
    "    npimg = img.numpy()\n",
    "    plt.xticks([])\n",
    "    plt.yticks([])\n",
    "    plt.imshow(np.transpose(npimg, (1, 2, 0)), interpolation='nearest')\n",
    "    "
   ]
  },
  {
   "cell_type": "code",
   "execution_count": 15,
   "metadata": {},
   "outputs": [
    {
     "name": "stdout",
     "output_type": "stream",
     "text": [
      "tensor([3.6010, 0.6918, 0.8415, 0.5112, 0.7784, 0.0144, 0.8474, 0.2762, 0.9931,\n",
      "        0.3797], device='cuda:0')\n"
     ]
    },
    {
     "data": {
      "image/png": "[encoded data removed]",
      "text/plain": [
       "<Figure size 432x288 with 1 Axes>"
      ]
     },
     "metadata": {},
     "output_type": "display_data"
    }
   ],
   "source": [
    "print(y[0])\n",
    "show(X[0].cpu())"
   ]
  },
  {
   "cell_type": "code",
   "execution_count": null,
   "metadata": {},
   "outputs": [],
   "source": []
  }
 ],
 "metadata": {
  "kernelspec": {
   "display_name": "Python 3",
   "language": "python",
   "name": "python3"
  },
  "language_info": {
   "codemirror_mode": {
    "name": "ipython",
    "version": 3
   },
   "file_extension": ".py",
   "mimetype": "text/x-python",
   "name": "python",
   "nbconvert_exporter": "python",
   "pygments_lexer": "ipython3",
   "version": "3.6.8"
  }
 },
 "nbformat": 4,
 "nbformat_minor": 4
}
